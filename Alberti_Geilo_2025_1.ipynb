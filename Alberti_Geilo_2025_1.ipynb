{
  "nbformat": 4,
  "nbformat_minor": 0,
  "metadata": {
    "colab": {
      "provenance": [],
      "gpuType": "T4",
      "include_colab_link": true
    },
    "kernelspec": {
      "name": "python3",
      "display_name": "Python 3"
    },
    "language_info": {
      "name": "python"
    },
    "accelerator": "GPU"
  },
  "cells": [
    {
      "cell_type": "markdown",
      "metadata": {
        "id": "view-in-github",
        "colab_type": "text"
      },
      "source": [
        "<a href=\"https://colab.research.google.com/github/mikelevvra/GeiloAlberti/blob/main/Alberti_Geilo_2025_1.ipynb\" target=\"_parent\"><img src=\"https://colab.research.google.com/assets/colab-badge.svg\" alt=\"Open In Colab\"/></a>"
      ]
    },
    {
      "cell_type": "markdown",
      "source": [
        "# **Machine Learning for Inverse Problems**\n",
        "**Geilo Winter school 2025**\n",
        "\n",
        "\n",
        "Goals of the lesson:\n",
        "\n",
        "Use the library  _deep inverse_ to\n",
        "*   simulate a deblurring problem\n",
        "*   implement variational regularization strategies\n",
        "*   use a Plug-and-Play scheme with a pre-trained denoiser\n",
        "*   use a Plug-and-Play scheme, training a denoiser\n",
        "*   implement and train a deep unfolding reconstruction method\n",
        "\n",
        "Luca Ratti, Università di Bologna, luca.ratti5@unibo.it\n",
        "\n",
        "Reference for the library: https://deepinv.github.io/deepinv/ by J. Tachella, D. Chen, S. Hurault, M. Terris and A Wang."
      ],
      "metadata": {
        "id": "WBJCMxMBocVN"
      }
    },
    {
      "cell_type": "code",
      "execution_count": null,
      "metadata": {
        "id": "Z7N9whG7oPov"
      },
      "outputs": [],
      "source": [
        "%%capture\n",
        "# Install deepinv (and ptwt, in case you need to use wavelets)\n",
        "!pip install ptwt\n",
        "!pip install git+https://github.com/deepinv/deepinv.git"
      ]
    },
    {
      "cell_type": "code",
      "source": [
        "import deepinv as dinv\n",
        "import matplotlib.pyplot as plt\n",
        "from torch.utils.data import DataLoader\n",
        "import torch\n",
        "from pathlib import Path\n",
        "from torchvision import transforms, datasets\n",
        "#from deepinv.models.utils import get_weights_url\n",
        "\n",
        "from deepinv.optim.prior import Prior, PnP\n",
        "from deepinv.optim.optimizers import optim_builder\n",
        "from deepinv.training import test\n",
        "from deepinv.models import DRUNet\n",
        "from deepinv.optim.dpir import get_DPIR_params\n",
        "from deepinv.models import DnCNN\n",
        "\n",
        "# Set the global random seed from pytorch to ensure reproducibility of the example.\n",
        "torch.manual_seed(42)\n",
        "\n",
        "# Specify the device (to use GPU on colab, first change the runtime to T4 GPU)\n",
        "device = dinv.utils.get_freer_gpu() if torch.cuda.is_available() else \"cpu\"\n",
        "\n",
        "# Use parallel dataloader if using a GPU to fasten training.\n",
        "num_workers = 5 if torch.cuda.is_available() else 0"
      ],
      "metadata": {
        "id": "1EYz3YaBoimt",
        "colab": {
          "base_uri": "https://localhost:8080/"
        },
        "outputId": "e6e6ef82-4673-4d4c-b9dd-546ff55d08b8"
      },
      "execution_count": null,
      "outputs": [
        {
          "output_type": "stream",
          "name": "stdout",
          "text": [
            "Selected GPU 0 with 15099 MiB free memory \n"
          ]
        }
      ]
    },
    {
      "cell_type": "markdown",
      "source": [
        "# **Create the physics: a deblurring + denoising problem**\n",
        "\n",
        "Input: $a \\in \\mathbb{R}^{n \\times n}(\\cong \\mathbb{R}^{n^2})\\quad$  -  $\\quad$ Output: $ b \\in \\mathbb{R}^{n \\times n}(\\cong \\mathbb{R}^{n^2})$\n",
        "\n",
        "Forward operator: convolution with a kernel (Point Spread Function) $k \\in \\mathbb{R}^{(2\\nu+1)\\times(2\\nu+1)}$\n",
        "$$ Fa = k * a, \\qquad [Fa]_{i,j} = \\sum_{p=-\\nu}^\\nu \\sum_{q=-\\nu}^\\nu k_{p,q} a_{i-p,j-q}$$\n",
        "(boundary conditions should be imposed on how to extend $a$ for indices $i,j$ before $1$ and after $n$)\n",
        "\n",
        "Inverse problem: recover $a^+$ from $b = Fa^+ +\\epsilon$, being $\\epsilon \\in \\mathbb{R}^{n \\times n}$ a random realization of Gaussian noise\n",
        "$$ [\\epsilon]_{i,j} \\quad i.\\!i.\\!d. \\sim \\mathcal{N}(0,\\delta^2)$$"
      ],
      "metadata": {
        "id": "vj9cv_Yfo7so"
      }
    },
    {
      "cell_type": "code",
      "source": [
        "# Define the physics\n",
        "\n",
        "# Blur: use a Gaussian filter k\n",
        "#filter_0 = dinv.physics.blur.gaussian_blur(sigma=1).to(device=device) # vanilla filter: Gaussian of variance sigma Id\n",
        "filter_0 = dinv.physics.blur.gaussian_blur(sigma=(1, 1), angle=0).to(device=device) # Gaussian with anisotropic variance, tilted of 45 degrees\n",
        "# this filter simulates motion blur with a diagonal direction\n",
        "\n",
        "# Noise model: additive gaussian\n",
        "noise_level = 0.1  # delta\n",
        "noise_model = dinv.physics.GaussianNoise(sigma=noise_level)\n",
        "\n",
        "physics = dinv.physics.Blur(filter_0,padding='reflect',device=device,noise_model=noise_model)\n",
        "# padding = 'reflect' specifies reflecting boundary conditions, avoiding jumps due to zero paddings"
      ],
      "metadata": {
        "id": "ZSaPZBRlpAEk"
      },
      "execution_count": null,
      "outputs": []
    },
    {
      "cell_type": "markdown",
      "source": [
        "# **Create a dataset**\n",
        "\n",
        "We start by importing the MNIST dataset of 28x28 images.\n",
        "\n",
        "We then create a supervised dataset for the deblurring problem by constructing\n",
        "$$ \\{(b_i,a_i)\\}_{i=1}^N, \\qquad a_i \\text{: an image from MNIST,}\\quad b_i = Fa_i +\\epsilon_i $$\n",
        "\n",
        "Disclaimer: we use a rather small sample size $N$ to guarantee reasonable training times."
      ],
      "metadata": {
        "id": "d3xNtN99sz2B"
      }
    },
    {
      "cell_type": "code",
      "source": [
        "%%capture\n",
        "# Import the dataset\n",
        "transform = transforms.Compose([transforms.ToTensor()])\n",
        "\n",
        "Train_dataset = datasets.MNIST(root=\"../datasets/\", train=True, transform=transform, download=True)\n",
        "Test_dataset = datasets.MNIST(root=\"../datasets/\", train=False, transform=transform, download=True)\n",
        "\n",
        "# Create a supervised dataset of simulated measurements\n",
        "\n",
        "# Specify the (maximum) size of the train and test sets\n",
        "n_train_max = (250 if torch.cuda.is_available() else 50)  # number of images used for training\n",
        "n_test_max = (50 if torch.cuda.is_available() else 10)  # number of images used for testing\n",
        "\n",
        "# Set the path to save the datasets\n",
        "BASE_DIR = Path(\".\")\n",
        "measurement_dir = BASE_DIR / \"dataset\"\n",
        "\n",
        "deepinv_datasets_path = dinv.datasets.generate_dataset(\n",
        "    train_dataset=Train_dataset,\n",
        "    test_dataset=Test_dataset,\n",
        "    physics=physics,\n",
        "    device=device,\n",
        "    save_dir=measurement_dir,\n",
        "    train_datapoints=n_train_max,\n",
        "    test_datapoints=n_test_max,\n",
        "    num_workers=num_workers,\n",
        "    dataset_filename=\"deblur\"\n",
        ")\n",
        "\n",
        "train_dataset = dinv.datasets.HDF5Dataset(path=deepinv_datasets_path, train=True)\n",
        "test_dataset = dinv.datasets.HDF5Dataset(path=deepinv_datasets_path, train=False)"
      ],
      "metadata": {
        "id": "qwTrO0VXss35"
      },
      "execution_count": null,
      "outputs": []
    },
    {
      "cell_type": "code",
      "source": [
        "# Vizualize images from the dataset\n",
        "\n",
        "select_image = 42\n",
        "\n",
        "fig, axs = plt.subplots(1,2,figsize=(8,4))\n",
        "axs0 = axs[0].imshow(train_dataset[select_image][0].squeeze(0), cmap='gray')\n",
        "axs[0].set_title('Ground truth')\n",
        "fig.colorbar(axs0)\n",
        "\n",
        "axs1 = axs[1].imshow(train_dataset[select_image][1].squeeze(0), cmap='gray')\n",
        "axs[1].set_title('Noisy and blurred')\n",
        "fig.colorbar(axs1)\n"
      ],
      "metadata": {
        "id": "lLZzGubCuLfA",
        "colab": {
          "base_uri": "https://localhost:8080/",
          "height": 376
        },
        "outputId": "d3a3b07d-f21d-4bc7-dc5d-1bd4bda6bb3d"
      },
      "execution_count": null,
      "outputs": [
        {
          "output_type": "execute_result",
          "data": {
            "text/plain": [
              "<matplotlib.colorbar.Colorbar at 0x7963262e5a90>"
            ]
          },
          "metadata": {},
          "execution_count": 8
        },
        {
          "output_type": "display_data",
          "data": {
            "text/plain": [
              "<Figure size 800x400 with 4 Axes>"
            ],
            "image/png": "[encoded data removed]"
          },
          "metadata": {}
        }
      ]
    },
    {
      "cell_type": "markdown",
      "source": [
        "**********************************************************\n",
        "**TASK 1**\n",
        "\n",
        "Visualize the effect of a different blurring kernel $k$ and of a different noise level $\\delta$.\n",
        "\n",
        "Warning: when creating a new supervised dataset, always provide a new name to the variable 'dataset_filename'\n",
        "\n",
        "**********************************************************"
      ],
      "metadata": {
        "id": "jJFOk_pivrrs"
      }
    }
  ]
}