{
  "nbformat": 4,
  "nbformat_minor": 0,
  "metadata": {
    "colab": {
      "provenance": [],
      "gpuType": "T4",
      "include_colab_link": true
    },
    "kernelspec": {
      "name": "python3",
      "display_name": "Python 3"
    },
    "language_info": {
      "name": "python"
    },
    "accelerator": "GPU"
  },
  "cells": [
    {
      "cell_type": "markdown",
      "metadata": {
        "id": "view-in-github",
        "colab_type": "text"
      },
      "source": [
        "<a href=\"https://colab.research.google.com/github/mikelevvra/GeiloAlberti/blob/main/Copy_of_Alberti_Geilo_2025_3.ipynb\" target=\"_parent\"><img src=\"https://colab.research.google.com/assets/colab-badge.svg\" alt=\"Open In Colab\"/></a>"
      ]
    },
    {
      "cell_type": "markdown",
      "source": [
        "# **Machine Learning for Inverse Problems**\n",
        "**Geilo Winter school 2025**\n",
        "\n",
        "\n",
        "Goals of the lesson:\n",
        "\n",
        "Use the library  _deep inverse_ to\n",
        "*   simulate a deblurring problem\n",
        "*   implement variational regularization strategies\n",
        "*   use a Plug-and-Play scheme with a pre-trained denoiser\n",
        "*   use a Plug-and-Play scheme, training a denoiser\n",
        "*   implement and train a deep unfolding reconstruction method\n",
        "\n",
        "Luca Ratti, Università di Bologna, luca.ratti5@unibo.it\n",
        "\n",
        "Reference for the library: https://deepinv.github.io/deepinv/ by J. Tachella, D. Chen, S. Hurault, M. Terris and A Wang."
      ],
      "metadata": {
        "id": "WBJCMxMBocVN"
      }
    },
    {
      "cell_type": "code",
      "execution_count": null,
      "metadata": {
        "id": "Z7N9whG7oPov"
      },
      "outputs": [],
      "source": [
        "%%capture\n",
        "# Install deepinv (and ptwt, in case you need to use wavelets)\n",
        "!pip install ptwt\n",
        "!pip install git+https://github.com/deepinv/deepinv.git"
      ]
    },
    {
      "cell_type": "code",
      "source": [
        "import deepinv as dinv\n",
        "import matplotlib.pyplot as plt\n",
        "from torch.utils.data import DataLoader\n",
        "import torch\n",
        "from pathlib import Path\n",
        "from torchvision import transforms, datasets\n",
        "#from deepinv.models.utils import get_weights_url\n",
        "\n",
        "from deepinv.optim.prior import Prior, PnP\n",
        "from deepinv.optim.optimizers import optim_builder\n",
        "from deepinv.training import test\n",
        "from deepinv.models import DRUNet\n",
        "from deepinv.optim.dpir import get_DPIR_params\n",
        "from deepinv.models import DnCNN\n",
        "\n",
        "# Set the global random seed from pytorch to ensure reproducibility of the example.\n",
        "torch.manual_seed(42)\n",
        "\n",
        "# Specify the device (to use GPU on colab, first change the runtime to T4 GPU)\n",
        "device = dinv.utils.get_freer_gpu() if torch.cuda.is_available() else \"cpu\"\n",
        "\n",
        "# Use parallel dataloader if using a GPU to fasten training.\n",
        "num_workers = 5 if torch.cuda.is_available() else 0"
      ],
      "metadata": {
        "id": "1EYz3YaBoimt",
        "colab": {
          "base_uri": "https://localhost:8080/"
        },
        "outputId": "e63c9866-6bc6-4261-f95e-44569be82a18"
      },
      "execution_count": null,
      "outputs": [
        {
          "output_type": "stream",
          "name": "stdout",
          "text": [
            "Selected GPU 0 with 15099 MiB free memory \n"
          ]
        }
      ]
    },
    {
      "cell_type": "markdown",
      "source": [
        "# **Create the physics: a deblurring + denoising problem**\n",
        "\n",
        "Input: $a \\in \\mathbb{R}^{n \\times n}(\\cong \\mathbb{R}^{n^2})\\quad$  -  $\\quad$ Output: $ b \\in \\mathbb{R}^{n \\times n}(\\cong \\mathbb{R}^{n^2})$\n",
        "\n",
        "Forward operator: convolution with a kernel (Point Spread Function) $k \\in \\mathbb{R}^{(2\\nu+1)\\times(2\\nu+1)}$\n",
        "$$ Fa = k * a, \\qquad [Fa]_{i,j} = \\sum_{p=-\\nu}^\\nu \\sum_{q=-\\nu}^\\nu k_{p,q} a_{i-p,j-q}$$\n",
        "(boundary conditions should be imposed on how to extend $a$ for indices $i,j$ before $1$ and after $n$)\n",
        "\n",
        "Inverse problem: recover $a^+$ from $b = Fa^+ +\\epsilon$, being $\\epsilon \\in \\mathbb{R}^{n \\times n}$ a random realization of Gaussian noise\n",
        "$$ [\\epsilon]_{i,j} \\quad i.\\!i.\\!d. \\sim \\mathcal{N}(0,\\delta^2)$$"
      ],
      "metadata": {
        "id": "vj9cv_Yfo7so"
      }
    },
    {
      "cell_type": "code",
      "source": [
        "# Define the physics\n",
        "\n",
        "# Blur: use a Gaussian filter k\n",
        "#filter_0 = dinv.physics.blur.gaussian_blur(sigma=1).to(device=device) # vanilla filter: Gaussian of variance sigma Id\n",
        "filter_0 = dinv.physics.blur.gaussian_blur(sigma=(1, 1), angle=0).to(device=device) # Gaussian with anisotropic variance, tilted of 45 degrees\n",
        "# this filter simulates motion blur with a diagonal direction\n",
        "\n",
        "# Noise model: additive gaussian\n",
        "noise_level = 0.1  # delta\n",
        "noise_model = dinv.physics.GaussianNoise(sigma=noise_level)\n",
        "\n",
        "physics = dinv.physics.Blur(filter_0,padding='reflect',device=device,noise_model=noise_model)\n",
        "# padding = 'reflect' specifies reflecting boundary conditions, avoiding jumps due to zero paddings"
      ],
      "metadata": {
        "id": "ZSaPZBRlpAEk"
      },
      "execution_count": null,
      "outputs": []
    },
    {
      "cell_type": "markdown",
      "source": [
        "# **Create a dataset**\n",
        "\n",
        "We start by importing the MNIST dataset of 28x28 images.\n",
        "\n",
        "We then create a supervised dataset for the deblurring problem by constructing\n",
        "$$ \\{(b_i,a_i)\\}_{i=1}^N, \\qquad a_i \\text{: an image from MNIST,}\\quad b_i = Fa_i +\\epsilon_i $$\n",
        "\n",
        "Disclaimer: we use a rather small sample size $N$ to guarantee reasonable training times."
      ],
      "metadata": {
        "id": "d3xNtN99sz2B"
      }
    },
    {
      "cell_type": "code",
      "source": [
        "%%capture\n",
        "# Import the dataset\n",
        "transform = transforms.Compose([transforms.ToTensor()])\n",
        "\n",
        "Train_dataset = datasets.MNIST(root=\"../datasets/\", train=True, transform=transform, download=True)\n",
        "Test_dataset = datasets.MNIST(root=\"../datasets/\", train=False, transform=transform, download=True)\n",
        "\n",
        "# Create a supervised dataset of simulated measurements\n",
        "\n",
        "# Specify the (maximum) size of the train and test sets\n",
        "n_train_max = (250 if torch.cuda.is_available() else 50)  # number of images used for training\n",
        "n_test_max = (50 if torch.cuda.is_available() else 10)  # number of images used for testing\n",
        "\n",
        "# Set the path to save the datasets\n",
        "BASE_DIR = Path(\".\")\n",
        "measurement_dir = BASE_DIR / \"dataset\"\n",
        "\n",
        "deepinv_datasets_path = dinv.datasets.generate_dataset(\n",
        "    train_dataset=Train_dataset,\n",
        "    test_dataset=Test_dataset,\n",
        "    physics=physics,\n",
        "    device=device,\n",
        "    save_dir=measurement_dir,\n",
        "    train_datapoints=n_train_max,\n",
        "    test_datapoints=n_test_max,\n",
        "    num_workers=num_workers,\n",
        "    dataset_filename=\"deblur\"\n",
        ")\n",
        "\n",
        "train_dataset = dinv.datasets.HDF5Dataset(path=deepinv_datasets_path, train=True)\n",
        "test_dataset = dinv.datasets.HDF5Dataset(path=deepinv_datasets_path, train=False)"
      ],
      "metadata": {
        "id": "qwTrO0VXss35"
      },
      "execution_count": null,
      "outputs": []
    },
    {
      "cell_type": "code",
      "source": [
        "# Vizualize images from the dataset\n",
        "\n",
        "select_image = 42\n",
        "\n",
        "fig, axs = plt.subplots(1,2,figsize=(8,4))\n",
        "axs0 = axs[0].imshow(train_dataset[select_image][0].squeeze(0), cmap='gray')\n",
        "axs[0].set_title('Ground truth')\n",
        "fig.colorbar(axs0)\n",
        "\n",
        "axs1 = axs[1].imshow(train_dataset[select_image][1].squeeze(0), cmap='gray')\n",
        "axs[1].set_title('Noisy and blurred')\n",
        "fig.colorbar(axs1)\n"
      ],
      "metadata": {
        "id": "lLZzGubCuLfA",
        "colab": {
          "base_uri": "https://localhost:8080/",
          "height": 376
        },
        "outputId": "4b804dd4-45c3-4e13-ea89-dd03f8094122"
      },
      "execution_count": null,
      "outputs": [
        {
          "output_type": "execute_result",
          "data": {
            "text/plain": [
              "<matplotlib.colorbar.Colorbar at 0x7f6a135df690>"
            ]
          },
          "metadata": {},
          "execution_count": 5
        },
        {
          "output_type": "display_data",
          "data": {
            "text/plain": [
              "<Figure size 800x400 with 4 Axes>"
            ],
            "image/png": "[encoded data removed]"
          },
          "metadata": {}
        }
      ]
    },
    {
      "cell_type": "markdown",
      "source": [
        "**********************************************************\n",
        "**TASK 1**\n",
        "\n",
        "Visualize the effect of a different blurring kernel $k$ and of a different noise level $\\delta$.\n",
        "\n",
        "Warning: when creating a new supervised dataset, always provide a new name to the variable 'dataset_filename'\n",
        "\n",
        "**********************************************************"
      ],
      "metadata": {
        "id": "jJFOk_pivrrs"
      }
    },
    {
      "cell_type": "markdown",
      "source": [
        "# **Variational regularization techniques**\n",
        "\n",
        "Choose a regularization functional $R: \\mathbb{R}^{n^2}\\rightarrow \\mathbb{R}$ and a parameter $\\lambda >0 $ and solve\n",
        "$$ a_\\lambda = \\arg\\min_{a \\in \\mathbb{R}^{n^2}} \\left\\{ \\frac{1}{2}\\| Fa-b\\|^2 + \\lambda R(a)\\right\\}$$"
      ],
      "metadata": {
        "id": "KvzMfV4GwbZb"
      }
    },
    {
      "cell_type": "code",
      "source": [
        "# Select the data fidelity term (the first part of the functional to be minimized)\n",
        "data_fidelity = dinv.optim.data_fidelity.L2()\n",
        "\n",
        "# Specify the custom prior R, e.g. Tikhonov, L1Prior, TVPrior, WaveletPrior\n",
        "prior = dinv.optim.prior.L1Prior()\n",
        "\n",
        "# Specific parameters for restoration with the given prior (Note that these parameters have not been optimized here)\n",
        "params_algo = {\"stepsize\": .1, \"lambda\": 0.2}\n",
        "\n",
        "# Instantiate the algorithm class to solve the IP problem.\n",
        "modelVAR = optim_builder(\n",
        "    iteration=\"PGD\", # proximal gradient descent\n",
        "    prior=prior,\n",
        "    g_first=False,\n",
        "    data_fidelity=data_fidelity,\n",
        "    params_algo=params_algo,\n",
        "    early_stop=True,\n",
        "    max_iter=500,\n",
        "    crit_conv=\"cost\",\n",
        "    thres_conv=1e-5,\n",
        "    backtracking=False,\n",
        "    verbose=False,\n",
        ")\n",
        "\n",
        "\n",
        "# The model does not need any training.\n",
        "# To get its 'average performances' we apply it to all the elements of the test set and take an average\n",
        "\n",
        "batch_size = 1\n",
        "var_dataloader = DataLoader(test_dataset, batch_size=batch_size, num_workers=num_workers, shuffle=False)\n",
        "\n",
        "test(\n",
        "    model=modelVAR,\n",
        "    test_dataloader=var_dataloader,\n",
        "    physics=physics,\n",
        "    device=device,\n",
        "    verbose=True,\n",
        "    plot_images = True,\n",
        ")\n",
        "\n",
        "\n",
        "# also observe the \"No learning\" results, which are the reconstruction given by the pseudoinverse"
      ],
      "metadata": {
        "id": "ULKJfwljwV6R",
        "colab": {
          "base_uri": "https://localhost:8080/",
          "height": 357
        },
        "outputId": "1e99ff63-7ae6-4c0f-98db-c71ea559fa8e"
      },
      "execution_count": null,
      "outputs": [
        {
          "output_type": "stream",
          "name": "stderr",
          "text": [
            "Test:  98%|██████████████████████████████████████████████████████████████████████▌ | 49/50 [00:29<00:00,  1.81it/s, PSNR=13.4, PSNR no learning=-34.3]"
          ]
        },
        {
          "output_type": "display_data",
          "data": {
            "text/plain": [
              "<Figure size 800x200 with 4 Axes>"
            ],
            "image/png": "[encoded data removed]"
          },
          "metadata": {}
        },
        {
          "output_type": "stream",
          "name": "stderr",
          "text": [
            "Test: 100%|████████████████████████████████████████████████████████████████████████| 50/50 [00:30<00:00,  1.67it/s, PSNR=13.4, PSNR no learning=-34.3]"
          ]
        },
        {
          "output_type": "stream",
          "name": "stdout",
          "text": [
            "Test results:\n",
            "PSNR no learning: -34.349 +- 0.546\n",
            "PSNR: 13.357 +- 1.962\n"
          ]
        },
        {
          "output_type": "stream",
          "name": "stderr",
          "text": [
            "\n"
          ]
        },
        {
          "output_type": "execute_result",
          "data": {
            "text/plain": [
              "{'PSNR no learning': -34.348971405029296,\n",
              " 'PSNR no learning_std': 0.5455827038975948,\n",
              " 'PSNR': 13.35700159072876,\n",
              " 'PSNR_std': 1.9621460240445046}"
            ]
          },
          "metadata": {},
          "execution_count": 6
        }
      ]
    },
    {
      "cell_type": "markdown",
      "source": [
        "**********************************************************\n",
        "**TASK 2**\n",
        "\n",
        "Explore alternative choices for $R$. Good candidates are Total Variation, or sparsity promotion with respect to wavelets: $R(a) = \\| W a \\|_1$ being $W$ a wavelet transform. Have a look at https://deepinv.github.io/deepinv/api/stubs/deepinv.optim.Prior.html#deepinv.optim.Prior\n",
        "\n",
        "\n",
        "**********************************************************"
      ],
      "metadata": {
        "id": "F8QpRIpQ3T8g"
      }
    },
    {
      "cell_type": "markdown",
      "source": [
        "## **Plug-and-Play 1: PGM with pre-trained denoiser**\n",
        "\n",
        "Consider the Proximal-Gradient Method associated with the minimization of the functional $\\frac{1}{2}\\| Fa-b \\|^2 + \\lambda R(a)$, namely\n",
        "$$\n",
        "\\left\\{\n",
        "\\begin{aligned}\n",
        "z^{(k+1)} &= a^{(k)} - \\gamma F^T(Fa^{(k)}-b) \\\\\n",
        "a^{(k+1)} &= \\operatorname{prox}_{\\gamma \\lambda R}(z^{(k+1)})\n",
        "\\end{aligned}\n",
        "\\right.\n",
        "$$\n",
        "and replace the proximal operator of $\\tau \\lambda R$ by a neural network $D_{\\theta,\\sigma}$, obtaining\n",
        "$$\n",
        "\\left\\{\n",
        "\\begin{aligned}\n",
        "z^{(k+1)} &= a^{(k)} - \\gamma F^T(Fa^{(k)}-b) \\\\\n",
        "a^{(k+1)} &= D_{\\theta,\\sigma}(z^{(k+1)})\n",
        "\\end{aligned}\n",
        "\\right.\n",
        "$$\n",
        "The network $D_{\\theta,\\sigma}$ (depending on some parameters $\\theta$) plays the role of a denoiser, and in particular it is trained to remove Gaussian noise, i.e., to approximate the Minimum MSE denoiser associated with the prior distribution corrupted by Gaussian noise with standard deviation $\\sigma$.\n",
        "\n",
        "Let us first consider a simple case in which $D_{\\theta,\\sigma}$ is a CNN that has been pre-trained on natural images.\n",
        "\n",
        "\n"
      ],
      "metadata": {
        "id": "bPVZxbvo2h7r"
      }
    },
    {
      "cell_type": "code",
      "source": [
        "from deepinv.models import DnCNN\n",
        "\n",
        "sigma_PnP = 0.05\n",
        "params_algo = {\"stepsize\": 0.01, \"g_param\": sigma_PnP}\n",
        "max_iter = 100\n",
        "early_stop = True\n",
        "\n",
        "denoiser = DnCNN(\n",
        "    in_channels=1,\n",
        "    out_channels=1,\n",
        "    pretrained=\"download\",  # try also download_lipschitz.\n",
        "    device=device,\n",
        ")\n",
        "prior = PnP(denoiser=denoiser)\n",
        "\n",
        "data_fidelity = dinv.optim.data_fidelity.L2()\n",
        "\n",
        "\n",
        "# Instantiate the algorithm class to solve the IP problem.\n",
        "modelPnP = optim_builder(\n",
        "    iteration=\"PGD\",\n",
        "    prior=prior,\n",
        "    data_fidelity=data_fidelity,\n",
        "    early_stop=early_stop,\n",
        "    max_iter=max_iter,\n",
        "    verbose=True,\n",
        "    params_algo=params_algo,\n",
        ")\n",
        "modelPnP.eval() # set the model to evaluation mode. We do not require training here.\n",
        "\n",
        "\n",
        "# Set the data loader to test the regularizer\n",
        "batch_size = 1\n",
        "var_dataloader = DataLoader(test_dataset, batch_size=batch_size, num_workers=num_workers, shuffle=False)\n",
        "\n",
        "test(\n",
        "    model=modelPnP,\n",
        "    test_dataloader=var_dataloader,\n",
        "    physics=physics,\n",
        "    device=device,\n",
        "    verbose=True,\n",
        "    plot_images = True,\n",
        ")\n",
        "\n",
        "\n",
        "# what is the effect of a different choice of sigma?"
      ],
      "metadata": {
        "id": "eGBYKGRfzr8c",
        "colab": {
          "base_uri": "https://localhost:8080/",
          "height": 391
        },
        "outputId": "b2acf6d7-d0d6-42cd-c539-f589e37cd2b8"
      },
      "execution_count": null,
      "outputs": [
        {
          "output_type": "stream",
          "name": "stderr",
          "text": [
            "Downloading: \"https://huggingface.co/deepinv/dncnn/resolve/main/dncnn_sigma2_gray.pth?download=true\" to /root/.cache/torch/hub/checkpoints/dncnn_sigma2_gray.pth\n",
            "100%|██████████| 2.55M/2.55M [00:00<00:00, 46.3MB/s]\n",
            "Test:  98%|██████████████████████████████████████████████████████████████████████▌ | 49/50 [00:22<00:00,  3.03it/s, PSNR=17.9, PSNR no learning=-16.3]"
          ]
        },
        {
          "output_type": "display_data",
          "data": {
            "text/plain": [
              "<Figure size 800x200 with 4 Axes>"
            ],
            "image/png": "[encoded data removed]"
          },
          "metadata": {}
        },
        {
          "output_type": "stream",
          "name": "stderr",
          "text": [
            "Test: 100%|████████████████████████████████████████████████████████████████████████| 50/50 [00:22<00:00,  2.20it/s, PSNR=17.9, PSNR no learning=-16.3]"
          ]
        },
        {
          "output_type": "stream",
          "name": "stdout",
          "text": [
            "Test results:\n",
            "PSNR no learning: -16.317 +- 0.456\n",
            "PSNR: 17.905 +- 1.255\n"
          ]
        },
        {
          "output_type": "stream",
          "name": "stderr",
          "text": [
            "\n"
          ]
        },
        {
          "output_type": "execute_result",
          "data": {
            "text/plain": [
              "{'PSNR no learning': -16.317142810821533,\n",
              " 'PSNR no learning_std': 0.45581130240881484,\n",
              " 'PSNR': 17.9051619720459,\n",
              " 'PSNR_std': 1.2549202039095193}"
            ]
          },
          "metadata": {},
          "execution_count": 7
        }
      ]
    },
    {
      "cell_type": "markdown",
      "source": [
        "# **Plug-and-Play 2: let's also train the denoiser**\n",
        "\n",
        "Let us use in PGM a network specifically trained to denoise images from the MNIST dataset.\n",
        "To do so,\n",
        "1.   we create another dataset $\\{\\tilde{a}_i,a_i\\}_{i=1}^{N_{den}}$ such that $\\tilde{a}_i = a_i + \\tilde{\\epsilon}_i$, where $\\tilde{\\epsilon}_i \\sim \\mathcal{N}(0,\\sigma^2 I)$\n",
        "2.   we define a denoiser $D_\\theta$ as a CNN as above and train it, namely we choose its parameters $\\theta$ so to minimize $$L_{den}(\\theta) = \\frac{1}{N_{den}} \\sum_{i=1}^{N_{den}} \\| D_\\theta(\\tilde{a}_i) - a_i\\|^2$$\n",
        "3.  we use the trained denoiser $ D_{\\theta,\\sigma}$ in place of the prox of a regularization functional in any PnP scheme - e.g. PnP-PGD.\n"
      ],
      "metadata": {
        "id": "gIwlUChlBvxJ"
      }
    },
    {
      "cell_type": "code",
      "source": [
        "# Part 1: dataset\n",
        "\n",
        "sigma_PnP = 0.1\n",
        "\n",
        "denoiser_train = DnCNN(   # Try also a UNet\n",
        "    in_channels=1,\n",
        "    out_channels=1,\n",
        "    pretrained=\"download\",\n",
        "    device=device,\n",
        ")\n",
        "# Create a supervised dataset of simulated measurements\n",
        "\n",
        "# Specify the (maximum) size of the train and test sets\n",
        "n_train_max_PnP = (250 if torch.cuda.is_available() else 50)  # number of images used for training\n",
        "n_test_max_PnP = (50 if torch.cuda.is_available() else 10)  # number of images used for testing\n",
        "\n",
        "# Set the path to save the datasets\n",
        "BASE_DIR = Path(\".\")\n",
        "measurement_dir = BASE_DIR / \"dataset\"\n",
        "\n",
        "# Define the physics\n",
        "noise_model_PnP = dinv.physics.GaussianNoise(sigma=sigma_PnP)\n",
        "physics_PnP = dinv.physics.Denoising(device=device,noise_model=noise_model_PnP)\n",
        "\n",
        "deepinv_datasets_path_PnP = dinv.datasets.generate_dataset(\n",
        "    train_dataset=Train_dataset,\n",
        "    test_dataset=Test_dataset,\n",
        "    physics=physics_PnP,\n",
        "    device=device,\n",
        "    save_dir=measurement_dir,\n",
        "    train_datapoints=n_train_max_PnP,\n",
        "    test_datapoints=n_test_max_PnP,\n",
        "    num_workers=num_workers,\n",
        "    dataset_filename=\"denoise\",\n",
        ")\n",
        "\n",
        "train_dataset_PnP = dinv.datasets.HDF5Dataset(path=deepinv_datasets_path_PnP, train=True)\n",
        "test_dataset_PnP = dinv.datasets.HDF5Dataset(path=deepinv_datasets_path_PnP, train=False)"
      ],
      "metadata": {
        "id": "99-ycuHmBt0p",
        "colab": {
          "base_uri": "https://localhost:8080/"
        },
        "outputId": "1c7b1345-a02c-4bb0-c41e-43fbfe278198"
      },
      "execution_count": null,
      "outputs": [
        {
          "output_type": "stream",
          "name": "stderr",
          "text": [
            "/usr/local/lib/python3.11/dist-packages/deepinv/datasets/datagenerator.py:242: UserWarning: Dataset dataset/denoise0.h5 already exists, this will overwrite the previous dataset.\n",
            "  warn(\n"
          ]
        },
        {
          "output_type": "stream",
          "name": "stdout",
          "text": [
            "Dataset has been saved at dataset/denoise0.h5\n"
          ]
        }
      ]
    },
    {
      "cell_type": "code",
      "source": [
        "# Part 2: training\n",
        "\n",
        "data_fidelity = dinv.optim.data_fidelity.L2()\n",
        "\n",
        "# Set the dataloader for the training\n",
        "batch_size=10\n",
        "train_dataloader_PnP = DataLoader(train_dataset_PnP, batch_size=batch_size, num_workers=num_workers, shuffle=False)\n",
        "test_dataloader_PnP = DataLoader(test_dataset_PnP, batch_size=batch_size, num_workers=num_workers, shuffle=False)\n",
        "\n",
        "# Set the training algorithm\n",
        "learning_rate = 1e-3\n",
        "epochs = 20\n",
        "optimizer = torch.optim.Adam(denoiser_train.parameters(), lr=learning_rate)\n",
        "losses = [dinv.loss.SupLoss(metric=dinv.loss.metric.MSE())]\n",
        "\n",
        "trainer_den = dinv.Trainer(\n",
        "    model=denoiser_train,\n",
        "    physics=physics_PnP,\n",
        "    train_dataloader=train_dataloader_PnP,\n",
        "    eval_dataloader=test_dataloader_PnP,\n",
        "    epochs=epochs,\n",
        "    losses=losses,\n",
        "    optimizer=optimizer,\n",
        "    device=device,\n",
        "    verbose=True,\n",
        "    show_progress_bar=False,\n",
        ")\n",
        "# Training\n",
        "modelDenoiser = trainer_den.train()\n",
        "test(\n",
        "    model=denoiser_train,\n",
        "    test_dataloader=test_dataloader_PnP,\n",
        "    physics=physics_PnP,\n",
        "    device=device,\n",
        "    verbose=True,\n",
        "    plot_images = True,\n",
        ")\n",
        "\n",
        "# Training is over: now let us use the trained model\n",
        "modelDenoiser.eval()"
      ],
      "metadata": {
        "id": "AxAFNvNPG_Lc",
        "colab": {
          "base_uri": "https://localhost:8080/",
          "height": 1000
        },
        "outputId": "0f562895-bbf7-4fc7-c152-d8b3e05b0e66"
      },
      "execution_count": null,
      "outputs": [
        {
          "output_type": "stream",
          "name": "stdout",
          "text": [
            "The model has 665921 trainable parameters\n",
            "Train epoch 0: TotalLoss=0.011, PSNR=19.777\n",
            "Eval epoch 0: PSNR=20.066\n",
            "Train epoch 1: TotalLoss=0.009, PSNR=20.664\n",
            "Eval epoch 1: PSNR=21.753\n",
            "Train epoch 2: TotalLoss=0.005, PSNR=22.786\n",
            "Eval epoch 2: PSNR=24.007\n",
            "Train epoch 3: TotalLoss=0.003, PSNR=25.49\n",
            "Eval epoch 3: PSNR=26.927\n",
            "Train epoch 4: TotalLoss=0.002, PSNR=27.214\n",
            "Eval epoch 4: PSNR=27.871\n",
            "Train epoch 5: TotalLoss=0.002, PSNR=28.104\n",
            "Eval epoch 5: PSNR=28.644\n",
            "Train epoch 6: TotalLoss=0.001, PSNR=28.514\n",
            "Eval epoch 6: PSNR=28.914\n",
            "Train epoch 7: TotalLoss=0.001, PSNR=28.802\n",
            "Eval epoch 7: PSNR=29.195\n",
            "Train epoch 8: TotalLoss=0.001, PSNR=29.106\n",
            "Eval epoch 8: PSNR=29.485\n",
            "Train epoch 9: TotalLoss=0.001, PSNR=29.296\n",
            "Eval epoch 9: PSNR=29.415\n",
            "Train epoch 10: TotalLoss=0.001, PSNR=29.452\n",
            "Eval epoch 10: PSNR=29.813\n",
            "Train epoch 11: TotalLoss=0.001, PSNR=29.66\n",
            "Eval epoch 11: PSNR=29.643\n",
            "Train epoch 12: TotalLoss=0.001, PSNR=29.711\n",
            "Eval epoch 12: PSNR=30.015\n",
            "Train epoch 13: TotalLoss=0.001, PSNR=29.889\n",
            "Eval epoch 13: PSNR=29.553\n",
            "Train epoch 14: TotalLoss=0.001, PSNR=29.853\n",
            "Eval epoch 14: PSNR=30.112\n",
            "Train epoch 15: TotalLoss=0.001, PSNR=30.028\n",
            "Eval epoch 15: PSNR=29.977\n",
            "Train epoch 16: TotalLoss=0.001, PSNR=30.045\n",
            "Eval epoch 16: PSNR=30.157\n",
            "Train epoch 17: TotalLoss=0.001, PSNR=30.087\n",
            "Eval epoch 17: PSNR=29.81\n",
            "Train epoch 18: TotalLoss=0.001, PSNR=30.151\n",
            "Eval epoch 18: PSNR=29.888\n",
            "Train epoch 19: TotalLoss=0.001, PSNR=30.164\n",
            "Eval epoch 19: PSNR=30.164\n"
          ]
        },
        {
          "output_type": "stream",
          "name": "stderr",
          "text": [
            "Test:   0%|                                                                                     | 0/5 [00:00<?, ?it/s, PSNR=30.2, PSNR no learning=20]"
          ]
        },
        {
          "output_type": "display_data",
          "data": {
            "text/plain": [
              "<Figure size 800x800 with 16 Axes>"
            ],
            "image/png": "[encoded data removed]"
          },
          "metadata": {}
        },
        {
          "output_type": "stream",
          "name": "stderr",
          "text": [
            "Test: 100%|█████████████████████████████████████████████████████████████████████████████| 5/5 [00:00<00:00, 13.66it/s, PSNR=30.2, PSNR no learning=20]"
          ]
        },
        {
          "output_type": "stream",
          "name": "stdout",
          "text": [
            "Test results:\n",
            "PSNR no learning: 20.025 +- 0.226\n",
            "PSNR: 30.164 +- 1.486\n"
          ]
        },
        {
          "output_type": "stream",
          "name": "stderr",
          "text": [
            "\n"
          ]
        },
        {
          "output_type": "execute_result",
          "data": {
            "text/plain": [
              "DnCNN(\n",
              "  (in_conv): Conv2d(1, 64, kernel_size=(3, 3), stride=(1, 1), padding=(1, 1))\n",
              "  (conv_list): ModuleList(\n",
              "    (0-17): 18 x Conv2d(64, 64, kernel_size=(3, 3), stride=(1, 1), padding=(1, 1))\n",
              "  )\n",
              "  (out_conv): Conv2d(64, 1, kernel_size=(3, 3), stride=(1, 1), padding=(1, 1))\n",
              "  (nl_list): ModuleList(\n",
              "    (0-18): 19 x ReLU()\n",
              "  )\n",
              ")"
            ]
          },
          "metadata": {},
          "execution_count": 8
        }
      ]
    },
    {
      "cell_type": "markdown",
      "source": [
        "**********************************************************\n",
        "**TASK 4**\n",
        "\n",
        "Use the trained denoiser within a simple PnP-PGD scheme.\n",
        "\n",
        "Hint: since the prior is strong, you can use a small regularization parameter. This is encoded by selecting a large stepsize.\n",
        "\n",
        "\n",
        "**********************************************************"
      ],
      "metadata": {
        "id": "uFROQq9WHfaO"
      }
    },
    {
      "cell_type": "code",
      "source": [
        "# Part 3: use the trained denoiser within a PnP-PGD scheme\n",
        "\n",
        "sigma_PnP = 0.1\n",
        "params_algo = {\"stepsize\": 1, \"g_param\": sigma_PnP}\n",
        "max_iter = 100\n",
        "early_stop = True\n",
        "\n",
        "\n",
        "prior = PnP(denoiser=modelDenoiser)\n",
        "\n",
        "data_fidelity = dinv.optim.data_fidelity.L2()\n",
        "\n",
        "\n",
        "# Instantiate the algorithm class to solve the IP problem.\n",
        "modelPnP = optim_builder(\n",
        "    iteration=\"PGD\",\n",
        "    prior=prior,\n",
        "    data_fidelity=data_fidelity,\n",
        "    early_stop=early_stop,\n",
        "    max_iter=max_iter,\n",
        "    verbose=True,\n",
        "    params_algo=params_algo,\n",
        ")\n",
        "modelPnP.eval() # set the model to evaluation mode. We do not require training here.\n",
        "\n",
        "\n",
        "# Set the data loader to test the regularizer\n",
        "batch_size = 1\n",
        "var_dataloader = DataLoader(test_dataset, batch_size=batch_size, num_workers=num_workers, shuffle=False)\n",
        "\n",
        "test(\n",
        "    model=modelPnP,\n",
        "    test_dataloader=var_dataloader,\n",
        "    physics=physics,\n",
        "    device=device,\n",
        "    verbose=True,\n",
        "    plot_images = True,\n",
        ")\n",
        "\n"
      ],
      "metadata": {
        "id": "LBNNIrS2Soal",
        "colab": {
          "base_uri": "https://localhost:8080/",
          "height": 411
        },
        "outputId": "a506e605-8af0-4230-9a55-94acca0be977"
      },
      "execution_count": null,
      "outputs": [
        {
          "output_type": "stream",
          "name": "stderr",
          "text": [
            "Test:  42%|██████████████████████████████▏                                         | 21/50 [00:06<00:10,  2.66it/s, PSNR=16.6, PSNR no learning=-34.3]"
          ]
        },
        {
          "output_type": "stream",
          "name": "stdout",
          "text": [
            "Iteration 89, current converge crit. = 9.52E-06, objective = 1.00E-05 \r\n"
          ]
        },
        {
          "output_type": "stream",
          "name": "stderr",
          "text": [
            "Test:  98%|██████████████████████████████████████████████████████████████████████▌ | 49/50 [00:18<00:00,  3.20it/s, PSNR=16.4, PSNR no learning=-34.4]"
          ]
        },
        {
          "output_type": "stream",
          "name": "stdout",
          "text": [
            "Iteration 95, current converge crit. = 9.38E-06, objective = 1.00E-05 \r\n"
          ]
        },
        {
          "output_type": "stream",
          "name": "stderr",
          "text": [
            "\rTest:  98%|██████████████████████████████████████████████████████████████████████▌ | 49/50 [00:18<00:00,  3.20it/s, PSNR=16.4, PSNR no learning=-34.3]"
          ]
        },
        {
          "output_type": "display_data",
          "data": {
            "text/plain": [
              "<Figure size 800x200 with 4 Axes>"
            ],
            "image/png": "[encoded data removed]"
          },
          "metadata": {}
        },
        {
          "output_type": "stream",
          "name": "stderr",
          "text": [
            "Test: 100%|████████████████████████████████████████████████████████████████████████| 50/50 [00:18<00:00,  2.69it/s, PSNR=16.4, PSNR no learning=-34.3]"
          ]
        },
        {
          "output_type": "stream",
          "name": "stdout",
          "text": [
            "Test results:\n",
            "PSNR no learning: -34.349 +- 0.546\n",
            "PSNR: 16.365 +- 2.082\n"
          ]
        },
        {
          "output_type": "stream",
          "name": "stderr",
          "text": [
            "\n"
          ]
        },
        {
          "output_type": "execute_result",
          "data": {
            "text/plain": [
              "{'PSNR no learning': -34.348971405029296,\n",
              " 'PSNR no learning_std': 0.5455827038975948,\n",
              " 'PSNR': 16.36458515167236,\n",
              " 'PSNR_std': 2.0819758508559194}"
            ]
          },
          "metadata": {},
          "execution_count": 9
        }
      ]
    },
    {
      "cell_type": "markdown",
      "source": [
        "# **Unrolling**\n",
        "\n",
        "We consider the iterates of a Douglas-Rachford scheme for the minimization of $\\frac{1}{2} \\| Fa-b\\|^2 + \\lambda R(a)$, namely:\n",
        "$$\n",
        "\\left\\{\n",
        "\\begin{aligned}\n",
        "z^{(k+1)} &= \\operatorname{prox}_{\\tau \\|F\\cdot - b\\|^2}(a^{(k)})\\\\\n",
        "y^{(k+1)} &= \\operatorname{prox}_{\\tau \\lambda R}(2z^{(k+1)}-a^{(k)}) \\\\\n",
        "a^{(k+1)} &= a^{(k)} + \\beta(y^{(k+1)}-z^{(k+1)})\n",
        "\\end{aligned}\n",
        "\\right.\n",
        "$$\n",
        "where $\\tau$ is a stepsize and $\\beta$ a relaxation parameter.\n",
        "Replace the proximal of the regularization functional with a different CNN $N_{\\theta_k}$ at each iteration:\n",
        "$$\n",
        "\\left\\{\n",
        "\\begin{aligned}\n",
        "z^{(k+1)} &= \\operatorname{prox}_{\\tau \\|F\\cdot - b\\|^2}(a^{(k)})\\\\\n",
        "y^{(k+1)} &= N_{\\theta_k}(2z^{(k+1)}-a^{(k)}) \\\\\n",
        "a^{(k+1)} &= a^{(k)} + \\beta (y^{(k+1)}-z^{(k+1)})\n",
        "\\end{aligned}\n",
        "\\right.\n",
        "$$\n",
        "\n",
        "For a fixed number of iterates $K$, we define $H_\\theta$ the map that takes as an input $b$ and returns $a^{(K)}$, and interpret it as a (very deep) neural network, where $\\theta$ denotes the collection of all the parameters in the network. We train the network by minimizing $$L(\\theta) = \\frac{1}{N} \\sum_{i=1}^{N} \\| H_\\theta(b_i) - a_i\\|^2$$"
      ],
      "metadata": {
        "id": "Qk1UdTSALo57"
      }
    },
    {
      "cell_type": "code",
      "source": [
        "# Select the denoiser\n",
        "priorUnr = dinv.optim.PnP(dinv.models.DnCNN(in_channels=1, out_channels=1,depth=7, pretrained=None).to(device))\n",
        "\n",
        "# Define the unrolled architecture\n",
        "modelUnr = dinv.unfolded.unfolded_builder(\n",
        "    iteration=\"DRS\",\n",
        "    data_fidelity=dinv.optim.L2(),\n",
        "    prior=priorUnr,\n",
        "    params_algo={\"stepsize\": 1.0, \"g_param\": 1.0},\n",
        "    trainable_params=[\"stepsize\", \"g_param\"],\n",
        "    device=device\n",
        ")\n",
        "\n",
        "# Set the dataloader for the training\n",
        "batch_size=10\n",
        "train_dataloader = DataLoader(train_dataset, batch_size=batch_size, num_workers=num_workers, shuffle=False)\n",
        "test_dataloader = DataLoader(test_dataset, batch_size=batch_size, num_workers=num_workers, shuffle=False)\n",
        "\n",
        "# Set the training algorithm\n",
        "learning_rate = 1e-3\n",
        "epochs = 20\n",
        "optimizer = torch.optim.Adam(modelUnr.parameters(), lr=learning_rate)\n",
        "losses = [dinv.loss.SupLoss(metric=dinv.loss.metric.MSE())]\n",
        "\n",
        "trainer = dinv.Trainer(\n",
        "    model=modelUnr,\n",
        "    physics=physics,\n",
        "    train_dataloader=train_dataloader,\n",
        "    eval_dataloader=test_dataloader,\n",
        "    epochs=epochs,\n",
        "    losses=losses,\n",
        "    optimizer=optimizer,\n",
        "    device=device,\n",
        "    verbose=True,\n",
        "    show_progress_bar=False,\n",
        ")\n",
        "\n",
        "# Training\n",
        "model = trainer.train()\n",
        "\n",
        "# Testing\n",
        "test(model=modelUnr,\n",
        "    test_dataloader=test_dataloader,\n",
        "    physics=physics,\n",
        "    device=device,\n",
        "    plot_images=True,\n",
        "    verbose=True,\n",
        ")"
      ],
      "metadata": {
        "id": "IPc0QWg3OUVP",
        "colab": {
          "base_uri": "https://localhost:8080/",
          "height": 1000
        },
        "outputId": "f5743279-b90b-4a54-f799-78b80e3089d9"
      },
      "execution_count": null,
      "outputs": [
        {
          "output_type": "stream",
          "name": "stdout",
          "text": [
            "The model has 185859 trainable parameters\n",
            "Train epoch 0: TotalLoss=0.199, PSNR=10.48\n",
            "Eval epoch 0: PSNR=14.269\n",
            "Train epoch 1: TotalLoss=0.036, PSNR=14.645\n",
            "Eval epoch 1: PSNR=15.793\n",
            "Train epoch 2: TotalLoss=0.028, PSNR=15.797\n",
            "Eval epoch 2: PSNR=16.531\n",
            "Train epoch 3: TotalLoss=0.024, PSNR=16.362\n",
            "Eval epoch 3: PSNR=16.867\n",
            "Train epoch 4: TotalLoss=0.023, PSNR=16.712\n",
            "Eval epoch 4: PSNR=17.086\n",
            "Train epoch 5: TotalLoss=0.022, PSNR=16.897\n",
            "Eval epoch 5: PSNR=17.218\n",
            "Train epoch 6: TotalLoss=0.021, PSNR=17.017\n",
            "Eval epoch 6: PSNR=17.311\n",
            "Train epoch 7: TotalLoss=0.021, PSNR=17.143\n",
            "Eval epoch 7: PSNR=17.46\n",
            "Train epoch 8: TotalLoss=0.02, PSNR=17.286\n",
            "Eval epoch 8: PSNR=17.568\n",
            "Train epoch 9: TotalLoss=0.02, PSNR=17.385\n",
            "Eval epoch 9: PSNR=17.617\n",
            "Train epoch 10: TotalLoss=0.019, PSNR=17.445\n",
            "Eval epoch 10: PSNR=17.663\n",
            "Train epoch 11: TotalLoss=0.019, PSNR=17.509\n",
            "Eval epoch 11: PSNR=17.725\n",
            "Train epoch 12: TotalLoss=0.019, PSNR=17.575\n",
            "Eval epoch 12: PSNR=17.765\n",
            "Train epoch 13: TotalLoss=0.019, PSNR=17.626\n",
            "Eval epoch 13: PSNR=17.771\n",
            "Train epoch 14: TotalLoss=0.018, PSNR=17.664\n",
            "Eval epoch 14: PSNR=17.775\n",
            "Train epoch 15: TotalLoss=0.018, PSNR=17.696\n",
            "Eval epoch 15: PSNR=17.801\n",
            "Train epoch 16: TotalLoss=0.018, PSNR=17.723\n",
            "Eval epoch 16: PSNR=17.842\n",
            "Train epoch 17: TotalLoss=0.018, PSNR=17.746\n",
            "Eval epoch 17: PSNR=17.872\n",
            "Train epoch 18: TotalLoss=0.018, PSNR=17.774\n",
            "Eval epoch 18: PSNR=17.816\n",
            "Train epoch 19: TotalLoss=0.018, PSNR=17.815\n",
            "Eval epoch 19: PSNR=17.797\n"
          ]
        },
        {
          "output_type": "stream",
          "name": "stderr",
          "text": [
            "Test:  80%|███████████████████████████████████████████████████████████▏              | 4/5 [00:00<00:00,  7.89it/s, PSNR=17.8, PSNR no learning=-34.3]"
          ]
        },
        {
          "output_type": "display_data",
          "data": {
            "text/plain": [
              "<Figure size 800x800 with 16 Axes>"
            ],
            "image/png": "[encoded data removed]"
          },
          "metadata": {}
        },
        {
          "output_type": "stream",
          "name": "stderr",
          "text": [
            "Test: 100%|██████████████████████████████████████████████████████████████████████████| 5/5 [00:01<00:00,  4.82it/s, PSNR=17.8, PSNR no learning=-34.3]"
          ]
        },
        {
          "output_type": "stream",
          "name": "stdout",
          "text": [
            "Test results:\n",
            "PSNR no learning: -34.350 +- 0.546\n",
            "PSNR: 17.797 +- 2.117\n"
          ]
        },
        {
          "output_type": "stream",
          "name": "stderr",
          "text": [
            "\n"
          ]
        },
        {
          "output_type": "execute_result",
          "data": {
            "text/plain": [
              "{'PSNR no learning': -34.34973937988281,\n",
              " 'PSNR no learning_std': 0.5463249402854593,\n",
              " 'PSNR': 17.79657257080078,\n",
              " 'PSNR_std': 2.116966165966364}"
            ]
          },
          "metadata": {},
          "execution_count": 10
        }
      ]
    }
  ]
}
